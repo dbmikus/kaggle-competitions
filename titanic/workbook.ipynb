{
 "cells": [
  {
   "cell_type": "code",
   "execution_count": null,
   "metadata": {},
   "outputs": [],
   "source": [
    "import os\n",
    "import pandas as pd"
   ]
  },
  {
   "cell_type": "code",
   "execution_count": null,
   "metadata": {},
   "outputs": [],
   "source": [
    "data_dir = \"./data\"\n",
    "example_submission_path = os.path.join(data_dir, \"gender_submission.csv\")\n",
    "train_csv_path = os.path.join(data_dir, \"train.csv\")\n",
    "test_csv_path = os.path.join(data_dir, \"test.csv\")"
   ]
  },
  {
   "cell_type": "markdown",
   "metadata": {},
   "source": [
    "# Data description\n",
    "\n",
    "The data has been split into two groups:\n",
    "\n",
    "- training set (train.csv)\n",
    "- test set (test.csv)\n",
    "\n",
    "The training set should be used to build your machine learning models. For the training set, we provide the outcome (also known as the “ground truth”) for each passenger. Your model will be based on “features” like passengers’ gender and class. You can also use feature engineering to create new features.\n",
    "\n",
    "The test set should be used to see how well your model performs on unseen data. For the test set, we do not provide the ground truth for each passenger. It is your job to predict these outcomes. For each passenger in the test set, use the model you trained to predict whether or not they survived the sinking of the Titanic.\n",
    "\n",
    "We also include gender_submission.csv, a set of predictions that assume all and only female passengers survive, as an example of what a submission file should look like.\n",
    "\n",
    "## Data Dictionary\n",
    "\n",
    "| Variable | Definition                                 | Key                                            |\n",
    "|----------|--------------------------------------------|------------------------------------------------|\n",
    "| survival | Survival                                   | 0 = No, 1 = Yes                                |\n",
    "| pclass   | Ticket class                               | 1 = 1st, 2 = 2nd, 3 = 3rd                      |\n",
    "| sex      | Sex                                        |                                                |\n",
    "| Age      | Age in years                               |                                                |\n",
    "| sibsp    | # of siblings / spouses aboard the Titanic |                                                |\n",
    "| parch    | # of parents / children aboard the Titanic |                                                |\n",
    "| ticket   | Ticket number                              |                                                |\n",
    "| fare     | Passenger fare                             |                                                |\n",
    "| cabin    | Cabin number                               |                                                |\n",
    "| embarked | Port of Embarkation                        | C = Cherbourg, Q = Queenstown, S = Southampton |\n",
    "\n",
    "\n",
    "## Variable Notes\n",
    "\n",
    "**pclass**: A proxy for socio-economic status (SES)\n",
    "- 1st = Upper\n",
    "- 2nd = Middle\n",
    "- 3rd = Lower\n",
    "\n",
    "**age**: Age is fractional if less than 1. If the age is estimated, is it in the form of xx.5\n",
    "\n",
    "**sibsp**: The dataset defines family relations in this way...\n",
    "- Sibling = brother, sister, stepbrother, stepsister\n",
    "- Spouse = husband, wife (mistresses and fiancés were ignored)\n",
    "\n",
    "**parch**: The dataset defines family relations in this way...\n",
    "- Parent = mother, father\n",
    "- Child = daughter, son, stepdaughter, stepson\n",
    "- Some children travelled only with a nanny, therefore parch=0 for them."
   ]
  },
  {
   "cell_type": "code",
   "execution_count": null,
   "metadata": {},
   "outputs": [],
   "source": [
    "train_df = pd.read_csv(train_csv_path)"
   ]
  },
  {
   "cell_type": "code",
   "execution_count": null,
   "metadata": {},
   "outputs": [],
   "source": [
    "train_df.head()"
   ]
  },
  {
   "cell_type": "code",
   "execution_count": null,
   "metadata": {},
   "outputs": [],
   "source": [
    "train_df.describe()"
   ]
  },
  {
   "cell_type": "code",
   "execution_count": null,
   "metadata": {},
   "outputs": [],
   "source": [
    "train_df[train_df['Ticket'].str.contains('[A-Za-z]')]"
   ]
  },
  {
   "cell_type": "code",
   "execution_count": null,
   "metadata": {},
   "outputs": [],
   "source": [
    "def make_ticket(prefix, number):\n",
    "    return {'ticket_prefix': prefix, 'ticket_number': number}\n",
    "\n",
    "\"\"\"\n",
    "{'A./5.',\n",
    " 'A.5.',\n",
    " 'A/4',\n",
    " 'A/4.',\n",
    " 'A/5',\n",
    " 'A/5.',\n",
    " 'A/S',\n",
    " 'A4.',\n",
    " 'C',\n",
    " 'C.A.',\n",
    " 'C.A./SOTON',\n",
    " 'CA',\n",
    " 'CA.',\n",
    " 'F.C.',\n",
    " 'F.C.C.',\n",
    " 'Fa',\n",
    " None,\n",
    " 'P/PP',\n",
    " 'PC',\n",
    " 'PP',\n",
    " 'S.C./A.4.',\n",
    " 'S.C./PARIS',\n",
    " 'S.O./P.P.',\n",
    " 'S.O.C.',\n",
    " 'S.O.P.',\n",
    " 'S.P.',\n",
    " 'S.W./PP',\n",
    " 'SC',\n",
    " 'SC/AH',\n",
    " 'SC/AH Basle',\n",
    " 'SC/PARIS',\n",
    " 'SC/Paris',\n",
    " 'SCO/W',\n",
    " 'SO/C',\n",
    " 'SOTON/O.Q.',\n",
    " 'SOTON/O2',\n",
    " 'SOTON/OQ',\n",
    " 'STON/O 2.',\n",
    " 'SW/PP',\n",
    " 'W./C.',\n",
    " 'W.E.P.',\n",
    " 'W/C',\n",
    " 'WE/P'}\n",
    "\"\"\"\n",
    "\n",
    "def transform_ticket_number(ticket_no):\n",
    "    ticket_map = {\n",
    "        'LINE': -1\n",
    "    }\n",
    "    return int(ticket_map.get(ticket_no, ticket_no))\n",
    "\n",
    "def transform_ticket_prefix(ticket_prefix):\n",
    "    if ticket_prefix == 'STON/O2.':\n",
    "        return 'STON/O 2.'\n",
    "    return ticket_prefix\n",
    "    \n",
    "def split_ticket(ticket):\n",
    "    parts = ticket.split()\n",
    "    if len(parts) == 0:\n",
    "        return make_ticket(None, np.pd.nan)\n",
    "    elif len(parts) == 1:\n",
    "        return make_ticket(None, transform_ticket_number(parts[0]))\n",
    "    return make_ticket(\n",
    "        transform_ticket_prefix(\" \".join(parts[0:-1])),\n",
    "        transform_ticket_number(parts[-1])\n",
    "    )"
   ]
  },
  {
   "cell_type": "code",
   "execution_count": null,
   "metadata": {},
   "outputs": [],
   "source": [
    "def process_df(original_df):\n",
    "    ticket_split_df = pd.DataFrame(original_df['Ticket'].apply(split_ticket).tolist())\n",
    "    return original_df.join(ticket_split_df)"
   ]
  },
  {
   "cell_type": "code",
   "execution_count": null,
   "metadata": {},
   "outputs": [],
   "source": [
    "processed_df = process_df(train_df)\n",
    "assert(len(processed_df[processed_df['ticket_number'] == pd.np.nan]) == 0)\n",
    "processed_df"
   ]
  },
  {
   "cell_type": "code",
   "execution_count": null,
   "metadata": {},
   "outputs": [],
   "source": [
    "def prepare_feature_df(processed_df):\n",
    "    \"\"\"Turn a processed DataFrame into a DataFrame suitable for an ML model.\"\"\"\n",
    "    return processed_df.drop(\n",
    "        columns=[\n",
    "            'Ticket',\n",
    "            'Name',\n",
    "            # We should try adding this back in after we've built our baseline model.\n",
    "            # Look at `set(prepared_df['ticket_prefix'])` to see ticket prefixes that\n",
    "            # might be similar\n",
    "            'ticket_prefix',\n",
    "        ]\n",
    "    )"
   ]
  },
  {
   "cell_type": "code",
   "execution_count": null,
   "metadata": {},
   "outputs": [],
   "source": [
    "prepared_df = prepare_feature_df(processed_df)\n",
    "prepared_df"
   ]
  }
 ],
 "metadata": {
  "kernelspec": {
   "display_name": "Python 3",
   "language": "python",
   "name": "python3"
  },
  "language_info": {
   "codemirror_mode": {
    "name": "ipython",
    "version": 3
   },
   "file_extension": ".py",
   "mimetype": "text/x-python",
   "name": "python",
   "nbconvert_exporter": "python",
   "pygments_lexer": "ipython3",
   "version": "3.7.6"
  }
 },
 "nbformat": 4,
 "nbformat_minor": 4
}
